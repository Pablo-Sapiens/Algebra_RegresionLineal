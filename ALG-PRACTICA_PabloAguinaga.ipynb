{
 "cells": [
  {
   "cell_type": "markdown",
   "id": "f2ac4dcd",
   "metadata": {
    "slideshow": {
     "slide_type": "slide"
    }
   },
   "source": [
    "<img src=\"images/keepcoding.png\" width=200 align=\"left\">"
   ]
  },
  {
   "cell_type": "markdown",
   "id": "9b439de7",
   "metadata": {},
   "source": [
    "# Módulo de Matemáticas 101: práctica\n",
    "\n",
    "Vamos a poner de nuevo en práctica lo que hemos visto en este módulo. La práctica se centra en la regresión lineal (¡tema muy importante!) y podéis preguntarme las dudas que tengáis por Discord. ¡Mucha suerte!\n",
    "\n",
    "<img src=\"./images/luck.gif\" alt=\"Drawing\" style=\"width: 300px;\"/>"
   ]
  },
  {
   "cell_type": "markdown",
   "id": "3d586f09",
   "metadata": {},
   "source": [
    "## 1. Regresión lineal con mínimos cuadrados\n",
    "\n",
    "En este ejercicio vamos a implementar la forma matricial de la regresión lineal con el método de los mínimos cuadrados. Para ello, tendrás que:\n",
    "\n",
    "- Explorar un dataset\n",
    "- Implementar la regresión lineal\n",
    "- Aplicarla a los datos\n",
    "\n",
    "Como recordatorio, los valores de los pesos $\\widehat{w}$ vienen dados por:\n",
    "\n",
    "<center>$\\widehat{w} = (X^T X)^{-1}X^T y,$</center>\n",
    "\n",
    "Donde $y$ es la variable a predecir y $X$ la matriz de features (NOTA: revisa cómo se define en los apuntes). Sabemos que los pesos van a ser los parámetros de la ecuación lineal que estamos intentando ajustar y tendremos uno por cada variable de entrada que usemos y además un término independiente o bias."
   ]
  },
  {
   "cell_type": "markdown",
   "id": "e574f77d",
   "metadata": {},
   "source": [
    "### 1.1 Carga del dataset y exploración de datos\n",
    "\n",
    "Vamos a usar el dataset de [Auto MPG](https://archive.ics.uci.edu/dataset/9/auto+mpg) que podemos encontrar en el [repositorio de Machine learning de UC Irvine](https://archive.ics.uci.edu/). Lo primero, vamos a familiarizarnos con los datos.\n",
    "\n",
    "En el propio repositorio nos indican cómo descargar el dataset con su librería (podemos consultar el código fuente si queremos)."
   ]
  },
  {
   "cell_type": "code",
   "execution_count": 37,
   "id": "4b5aac08",
   "metadata": {},
   "outputs": [
    {
     "name": "stdout",
     "output_type": "stream",
     "text": [
      "Requirement already satisfied: ucimlrepo in c:\\users\\pabloag\\appdata\\local\\programs\\python\\python312\\lib\\site-packages (0.0.7)\n",
      "Requirement already satisfied: pandas>=1.0.0 in c:\\users\\pabloag\\appdata\\local\\programs\\python\\python312\\lib\\site-packages (from ucimlrepo) (2.2.2)\n",
      "Requirement already satisfied: certifi>=2020.12.5 in c:\\users\\pabloag\\appdata\\local\\programs\\python\\python312\\lib\\site-packages (from ucimlrepo) (2024.7.4)\n",
      "Requirement already satisfied: numpy>=1.26.0 in c:\\users\\pabloag\\appdata\\local\\programs\\python\\python312\\lib\\site-packages (from pandas>=1.0.0->ucimlrepo) (2.0.0)\n",
      "Requirement already satisfied: python-dateutil>=2.8.2 in c:\\users\\pabloag\\appdata\\local\\programs\\python\\python312\\lib\\site-packages (from pandas>=1.0.0->ucimlrepo) (2.9.0.post0)\n",
      "Requirement already satisfied: pytz>=2020.1 in c:\\users\\pabloag\\appdata\\local\\programs\\python\\python312\\lib\\site-packages (from pandas>=1.0.0->ucimlrepo) (2024.1)\n",
      "Requirement already satisfied: tzdata>=2022.7 in c:\\users\\pabloag\\appdata\\local\\programs\\python\\python312\\lib\\site-packages (from pandas>=1.0.0->ucimlrepo) (2024.1)\n",
      "Requirement already satisfied: six>=1.5 in c:\\users\\pabloag\\appdata\\local\\programs\\python\\python312\\lib\\site-packages (from python-dateutil>=2.8.2->pandas>=1.0.0->ucimlrepo) (1.16.0)\n"
     ]
    },
    {
     "name": "stderr",
     "output_type": "stream",
     "text": [
      "\n",
      "[notice] A new release of pip is available: 24.0 -> 24.1.2\n",
      "[notice] To update, run: python.exe -m pip install --upgrade pip\n"
     ]
    }
   ],
   "source": [
    "!pip install ucimlrepo\n"
   ]
  },
  {
   "cell_type": "code",
   "execution_count": 1,
   "id": "d69d9185",
   "metadata": {},
   "outputs": [
    {
     "name": "stdout",
     "output_type": "stream",
     "text": [
      "           name     role         type demographic description units  \\\n",
      "0  displacement  Feature   Continuous        None        None  None   \n",
      "1           mpg   Target   Continuous        None        None  None   \n",
      "2     cylinders  Feature      Integer        None        None  None   \n",
      "3    horsepower  Feature   Continuous        None        None  None   \n",
      "4        weight  Feature   Continuous        None        None  None   \n",
      "5  acceleration  Feature   Continuous        None        None  None   \n",
      "6    model_year  Feature      Integer        None        None  None   \n",
      "7        origin  Feature      Integer        None        None  None   \n",
      "8      car_name       ID  Categorical        None        None  None   \n",
      "\n",
      "  missing_values  \n",
      "0             no  \n",
      "1             no  \n",
      "2             no  \n",
      "3            yes  \n",
      "4             no  \n",
      "5             no  \n",
      "6             no  \n",
      "7             no  \n",
      "8             no  \n"
     ]
    }
   ],
   "source": [
    "from ucimlrepo import fetch_ucirepo \n",
    "  \n",
    "# fetch dataset \n",
    "auto_mpg = fetch_ucirepo(id=9) \n",
    "  \n",
    "# data (as pandas dataframes) \n",
    "X = auto_mpg.data.features \n",
    "y = auto_mpg.data.targets \n",
    "  \n",
    "# metadata  \n",
    "# variable information \n",
    "print(auto_mpg.variables) \n"
   ]
  },
  {
   "cell_type": "markdown",
   "id": "5f7f79e8",
   "metadata": {},
   "source": [
    "Con la función `head` de Pandas podemos ver las primeras filas del dataset."
   ]
  },
  {
   "cell_type": "code",
   "execution_count": 2,
   "id": "242091db",
   "metadata": {},
   "outputs": [
    {
     "data": {
      "text/html": [
       "<div>\n",
       "<style scoped>\n",
       "    .dataframe tbody tr th:only-of-type {\n",
       "        vertical-align: middle;\n",
       "    }\n",
       "\n",
       "    .dataframe tbody tr th {\n",
       "        vertical-align: top;\n",
       "    }\n",
       "\n",
       "    .dataframe thead th {\n",
       "        text-align: right;\n",
       "    }\n",
       "</style>\n",
       "<table border=\"1\" class=\"dataframe\">\n",
       "  <thead>\n",
       "    <tr style=\"text-align: right;\">\n",
       "      <th></th>\n",
       "      <th>displacement</th>\n",
       "      <th>cylinders</th>\n",
       "      <th>horsepower</th>\n",
       "      <th>weight</th>\n",
       "      <th>acceleration</th>\n",
       "      <th>model_year</th>\n",
       "      <th>origin</th>\n",
       "    </tr>\n",
       "  </thead>\n",
       "  <tbody>\n",
       "    <tr>\n",
       "      <th>0</th>\n",
       "      <td>307.0</td>\n",
       "      <td>8</td>\n",
       "      <td>130.0</td>\n",
       "      <td>3504</td>\n",
       "      <td>12.0</td>\n",
       "      <td>70</td>\n",
       "      <td>1</td>\n",
       "    </tr>\n",
       "    <tr>\n",
       "      <th>1</th>\n",
       "      <td>350.0</td>\n",
       "      <td>8</td>\n",
       "      <td>165.0</td>\n",
       "      <td>3693</td>\n",
       "      <td>11.5</td>\n",
       "      <td>70</td>\n",
       "      <td>1</td>\n",
       "    </tr>\n",
       "    <tr>\n",
       "      <th>2</th>\n",
       "      <td>318.0</td>\n",
       "      <td>8</td>\n",
       "      <td>150.0</td>\n",
       "      <td>3436</td>\n",
       "      <td>11.0</td>\n",
       "      <td>70</td>\n",
       "      <td>1</td>\n",
       "    </tr>\n",
       "    <tr>\n",
       "      <th>3</th>\n",
       "      <td>304.0</td>\n",
       "      <td>8</td>\n",
       "      <td>150.0</td>\n",
       "      <td>3433</td>\n",
       "      <td>12.0</td>\n",
       "      <td>70</td>\n",
       "      <td>1</td>\n",
       "    </tr>\n",
       "    <tr>\n",
       "      <th>4</th>\n",
       "      <td>302.0</td>\n",
       "      <td>8</td>\n",
       "      <td>140.0</td>\n",
       "      <td>3449</td>\n",
       "      <td>10.5</td>\n",
       "      <td>70</td>\n",
       "      <td>1</td>\n",
       "    </tr>\n",
       "  </tbody>\n",
       "</table>\n",
       "</div>"
      ],
      "text/plain": [
       "   displacement  cylinders  horsepower  weight  acceleration  model_year  \\\n",
       "0         307.0          8       130.0    3504          12.0          70   \n",
       "1         350.0          8       165.0    3693          11.5          70   \n",
       "2         318.0          8       150.0    3436          11.0          70   \n",
       "3         304.0          8       150.0    3433          12.0          70   \n",
       "4         302.0          8       140.0    3449          10.5          70   \n",
       "\n",
       "   origin  \n",
       "0       1  \n",
       "1       1  \n",
       "2       1  \n",
       "3       1  \n",
       "4       1  "
      ]
     },
     "execution_count": 2,
     "metadata": {},
     "output_type": "execute_result"
    }
   ],
   "source": [
    "X.head()\n"
   ]
  },
  {
   "cell_type": "code",
   "execution_count": 3,
   "id": "bc6bfba5",
   "metadata": {},
   "outputs": [
    {
     "data": {
      "text/html": [
       "<div>\n",
       "<style scoped>\n",
       "    .dataframe tbody tr th:only-of-type {\n",
       "        vertical-align: middle;\n",
       "    }\n",
       "\n",
       "    .dataframe tbody tr th {\n",
       "        vertical-align: top;\n",
       "    }\n",
       "\n",
       "    .dataframe thead th {\n",
       "        text-align: right;\n",
       "    }\n",
       "</style>\n",
       "<table border=\"1\" class=\"dataframe\">\n",
       "  <thead>\n",
       "    <tr style=\"text-align: right;\">\n",
       "      <th></th>\n",
       "      <th>mpg</th>\n",
       "    </tr>\n",
       "  </thead>\n",
       "  <tbody>\n",
       "    <tr>\n",
       "      <th>0</th>\n",
       "      <td>18.0</td>\n",
       "    </tr>\n",
       "    <tr>\n",
       "      <th>1</th>\n",
       "      <td>15.0</td>\n",
       "    </tr>\n",
       "    <tr>\n",
       "      <th>2</th>\n",
       "      <td>18.0</td>\n",
       "    </tr>\n",
       "    <tr>\n",
       "      <th>3</th>\n",
       "      <td>16.0</td>\n",
       "    </tr>\n",
       "    <tr>\n",
       "      <th>4</th>\n",
       "      <td>17.0</td>\n",
       "    </tr>\n",
       "  </tbody>\n",
       "</table>\n",
       "</div>"
      ],
      "text/plain": [
       "    mpg\n",
       "0  18.0\n",
       "1  15.0\n",
       "2  18.0\n",
       "3  16.0\n",
       "4  17.0"
      ]
     },
     "execution_count": 3,
     "metadata": {},
     "output_type": "execute_result"
    }
   ],
   "source": [
    "y.head()\n"
   ]
  },
  {
   "cell_type": "code",
   "execution_count": 4,
   "id": "29eadab1",
   "metadata": {},
   "outputs": [
    {
     "data": {
      "text/plain": [
       "0    displacement\n",
       "1             mpg\n",
       "2       cylinders\n",
       "3      horsepower\n",
       "4          weight\n",
       "5    acceleration\n",
       "6      model_year\n",
       "7          origin\n",
       "8        car_name\n",
       "Name: name, dtype: object"
      ]
     },
     "execution_count": 4,
     "metadata": {},
     "output_type": "execute_result"
    }
   ],
   "source": [
    "auto_mpg.variables.name"
   ]
  },
  {
   "cell_type": "code",
   "execution_count": 5,
   "id": "deae475d",
   "metadata": {},
   "outputs": [
    {
     "name": "stdout",
     "output_type": "stream",
     "text": [
      "el tipo de y es: <class 'pandas.core.frame.DataFrame'>\n",
      "el shape de y es: (398, 1)\n",
      "El tipo de X es: <class 'pandas.core.frame.DataFrame'>\n",
      "El shape de X es: (398, 7)\n"
     ]
    }
   ],
   "source": [
    "print(f'el tipo de y es: {type(y)}')\n",
    "print(f'el shape de y es: {y.shape}')\n",
    "\n",
    "print(f'El tipo de X es: {type(X)}')\n",
    "print(f'El shape de X es: {X.shape}')"
   ]
  },
  {
   "cell_type": "code",
   "execution_count": 6,
   "id": "d41814eb",
   "metadata": {},
   "outputs": [],
   "source": [
    "import pandas as pd\n",
    "import matplotlib.pyplot as plt\n",
    "\n",
    "def visualiza(df,y, nombre_columna= \"weight\"):\n",
    "    \"\"\"\n",
    "    Dibuja un gráfico de dispersión basado en la columna especificada por el usuario.\n",
    "    \n",
    "    Parámetros:\n",
    "    df : DataFrame - El DataFrame que contiene los features.\n",
    "    y : DataFrame - El DataFrame que contiene los valores target de la variable dependiente (consumo millas por galon) .\n",
    "    nombre_columna : str - El nombre de la columna a visualizar (por defecto es \"weight\").\n",
    "    \"\"\"\n",
    "    \n",
    "    \"\"\"\n",
    "    #El método .loc permite seleccionar datos utilizando etiquetas en lugar de posiciones enteras. El output es una serie\n",
    "    X_selected = df.loc[:,nombre_columna]\n",
    "\n",
    "    #Si hago esto después tengo que transformar la serie de nuevo en un dataframe\n",
    "    df_X_selected = X_selected.to_frame()\n",
    "    \n",
    "    print(df_X_selected\n",
    "    \"\"\"\n",
    "    \n",
    "    #Selecciono de mi dataframe inicial la característica que introduzca el usuario. Esto no convierte el datframe en una serie.\n",
    "    df_X_selected = df[[nombre_columna]]\n",
    "\n",
    "    #defino la gráfica de dispersión\n",
    "    plt.scatter(df_X_selected,y, color=\"red\", s=5)\n",
    "    plt.xlim(left=0)\n",
    "    plt.ylim(bottom=0)\n",
    "    plt.xlabel(nombre_columna)\n",
    "    plt.ylabel(\"consumo:millas x galón\")\n",
    "    plt.title(f\"Gráfico de dispersión de {nombre_columna}\")\n",
    "    plt.show()\n",
    "\n"
   ]
  },
  {
   "cell_type": "markdown",
   "id": "f1937b9f",
   "metadata": {},
   "source": [
    "Crea una función a la que le pases los dataframes de features y de target y el nombre de la variable y haga la gráfica del target (consumo en galones por milla) vs la variable que le ha llegado por parámetro. Puedes ver un ejemplo de gráfica más abajo."
   ]
  },
  {
   "cell_type": "code",
   "execution_count": 7,
   "id": "13197dad",
   "metadata": {},
   "outputs": [
    {
     "data": {
      "image/png": "[encoded data removed]",
      "text/plain": [
       "<Figure size 640x480 with 1 Axes>"
      ]
     },
     "metadata": {},
     "output_type": "display_data"
    }
   ],
   "source": [
    "visualiza(X, y, 'horsepower')\n",
    "\n"
   ]
  },
  {
   "cell_type": "code",
   "execution_count": 8,
   "id": "59db67f0",
   "metadata": {},
   "outputs": [
    {
     "data": {
      "image/png": "[encoded data removed]",
      "text/plain": [
       "<Figure size 640x480 with 1 Axes>"
      ]
     },
     "metadata": {},
     "output_type": "display_data"
    }
   ],
   "source": [
    "visualiza(X, y, 'acceleration')"
   ]
  },
  {
   "cell_type": "code",
   "execution_count": 9,
   "id": "b61b921b",
   "metadata": {},
   "outputs": [
    {
     "data": {
      "image/png": "[encoded data removed]",
      "text/plain": [
       "<Figure size 640x480 with 1 Axes>"
      ]
     },
     "metadata": {},
     "output_type": "display_data"
    }
   ],
   "source": [
    "visualiza(X, y, 'weight')"
   ]
  },
  {
   "cell_type": "code",
   "execution_count": null,
   "id": "d4a909ff",
   "metadata": {},
   "outputs": [],
   "source": []
  },
  {
   "cell_type": "markdown",
   "id": "484ab196",
   "metadata": {},
   "source": [
    "Aunque lo ideal sería un modelo multivariante, vamos a elegir la variable `weight` y hacer una regresión lineal solo con esta variable."
   ]
  },
  {
   "cell_type": "markdown",
   "id": "58c9aff9",
   "metadata": {},
   "source": [
    "### 1.2 Implementación del modelo\n",
    "\n",
    "Lo primero, implementa una función que devuelva los valores de $\\widehat{w}$ dados X e y. Si se da el caso de que el dataset tiene más features que observaciones, queremos transponerlo antes de realizar las operaciones. Lo hacemos porque, como vimos en clase, los resultados no van a ser buenos si el número de observaciones es menor."
   ]
  },
  {
   "cell_type": "code",
   "execution_count": 10,
   "id": "81557e26",
   "metadata": {},
   "outputs": [
    {
     "data": {
      "text/plain": [
       "(2, 1)"
      ]
     },
     "execution_count": 10,
     "metadata": {},
     "output_type": "execute_result"
    }
   ],
   "source": [
    "import numpy as np\n",
    "def pesos_ols(X, y):\n",
    "    # Implementa la fórmula matricial 𝑤ˆ=(𝑋𝑇𝑋)−1𝑋𝑇𝑦,\n",
    "    # TODO 1 Comprueba que las dimensiones son adecuadas y corrige si no es así\n",
    "    \"\"\"\n",
    "    #El método .loc permite seleccionar datos utilizando etiquetas en lugar de posiciones enteras. El output es una serie\n",
    "    X_selected = X.loc[:,\"weight\"]\n",
    "    #Transformo la serie en un dataframe. Este dataframe es mi matriz de características en la que cada\n",
    "    #Cada fila representa un conjunto de observaciones (n)\n",
    "    #Cada columna representa la característica \"weight\" (d)\n",
    "    df_X_selected = X_selected.to_frame()\n",
    "    \n",
    "    \"\"\"\n",
    "      \n",
    "    df_X_selected = X[[\"weight\"]]\n",
    "    \n",
    "    # TODO 2 Prepara la matriz X para que tenga la forma adecuada para aplicar la fórmula \n",
    "    ones = np.ones((398,1))\n",
    "    X_b = np.concatenate((ones, df_X_selected), axis = 1)\n",
    "    X_bt = np.transpose(X_b)\n",
    "    X_btXb = np.dot(X_bt,X_b)\n",
    "    X_btXb_inv = np.linalg.inv(X_btXb)\n",
    "    w = np.dot(X_btXb_inv, np.dot(X_bt,y))\n",
    "    \n",
    "    #return print(X_b.shape, X_bt.shape, X_btXb.shape,X_btXb_inv.shape, y.shape, w.shape, w)\n",
    "    return w\n",
    "    # TODO 3 Calcula los pesos\n",
    "w = pesos_ols(X,y)\n",
    "w.shape\n",
    "    \n"
   ]
  },
  {
   "cell_type": "code",
   "execution_count": 11,
   "id": "a8c9bbcf",
   "metadata": {},
   "outputs": [
    {
     "data": {
      "text/plain": [
       "array([[ 4.63173644e+01],\n",
       "       [-7.67661006e-03]])"
      ]
     },
     "execution_count": 11,
     "metadata": {},
     "output_type": "execute_result"
    }
   ],
   "source": [
    "\"\"\"\n",
    "Comprobación empleando la de Numpy directamente\n",
    "\"\"\"\n",
    "X_selected = X.loc[:,\"weight\"]\n",
    "df_X_selected = X_selected.to_frame()\n",
    "ones = np.ones((398,1))\n",
    "X_b = np.concatenate((ones, df_X_selected), axis = 1)\n",
    "w_fast, _, _, _ = np.linalg.lstsq(X_b, y, rcond = None)\n",
    "w_fast"
   ]
  },
  {
   "cell_type": "code",
   "execution_count": null,
   "id": "43f77ffe",
   "metadata": {},
   "outputs": [],
   "source": []
  },
  {
   "cell_type": "code",
   "execution_count": null,
   "id": "f29ff991",
   "metadata": {},
   "outputs": [],
   "source": [
    "\n"
   ]
  },
  {
   "cell_type": "code",
   "execution_count": null,
   "id": "20ebe4da",
   "metadata": {},
   "outputs": [],
   "source": []
  },
  {
   "cell_type": "markdown",
   "id": "5cb5c0f5",
   "metadata": {},
   "source": [
    "### 1.3 Prueba del modelo en los datos de consumo de coches\n",
    "\n",
    "Ya podemos usar nuestra función `pesos` en el dataset real que hemos descargado. Para ver el ajuste, dibuja de nuevo los datos junto con la recta que has obtenido, en la misma gráfica. Tendrás que convertir los dataframes de Pandas en arrays de numpy para poder aplicar las operaciones matriciales.\n",
    "\n",
    "TIP: Revisa las dimensiones de todos los arrays para ver que son correctas."
   ]
  },
  {
   "cell_type": "code",
   "execution_count": 12,
   "id": "53cebe34",
   "metadata": {},
   "outputs": [
    {
     "data": {
      "text/plain": [
       "'\\n\\n# Aplica el modelo y dibuja la recta junto con los datos\\nprint(w.shape)\\nprint(w)\\ndf_X_selected = X[[\"weight\"]]\\nX_b = np.c_[np.ones((X.shape[0], 1)), df_X_selected]\\nprint(X_b.shape)\\nrecta = np.dot(X_b, w)\\nplt.plot(df_X_selected, recta, color=\"blue\", label=\"Recta estimada\")\\nplt.scatter(df_X_selected,y, color=\"red\", s=5)\\n# Forzar que los ejes empiecen en 0\\nplt.xlim(left=0)\\nplt.ylim(bottom=0)\\n\\nplt.xlabel(\"weight\")\\nplt.ylabel(\"consumo:millas x galón\")\\nplt.title(\"Gráfico de regresión lineal \")\\nplt.show()\\n\\n'"
      ]
     },
     "execution_count": 12,
     "metadata": {},
     "output_type": "execute_result"
    }
   ],
   "source": []
  },
  {
   "cell_type": "code",
   "execution_count": 13,
   "id": "8eb05ceb",
   "metadata": {},
   "outputs": [
    {
     "data": {
      "image/png": "[encoded data removed]",
      "text/plain": [
       "<Figure size 640x480 with 1 Axes>"
      ]
     },
     "metadata": {},
     "output_type": "display_data"
    },
    {
     "name": "stdout",
     "output_type": "stream",
     "text": [
      "El intercepto es:  [46.31736442]\n",
      "La pendiente de la recta es:  [-0.00767661]\n"
     ]
    }
   ],
   "source": [
    "# Aplica el modelo y dibuja la recta junto con los datos\n",
    "\n",
    "#   creo los valores desde 0 hasta el máximo de X con la columna weight\n",
    "#   X[[\"weight\"]] devuelve un DataFrame, y max aplicado directamente a un\n",
    "#   DataFrame no funciona. hay convertir a una serie o tomar el valor de la columna antes de aplicar max\n",
    "\n",
    "\n",
    "\n",
    "valoresX_recta = np.linspace(0, max(X[\"weight\"]), 100)\n",
    "# Creo la variable dependiente \"recta\" en función de los valores de X creados anteriormente\n",
    "recta = w[0] + (w[1]*valoresX_recta)\n",
    "\n",
    "#Creo los gráficos de puntos y recta\n",
    "plt.plot(valoresX_recta,recta)\n",
    "visualiza(X,y)\n",
    "print(f'El intercepto es: ', w[0])\n",
    "print(f'La pendiente de la recta es: ', w[1])"
   ]
  },
  {
   "cell_type": "code",
   "execution_count": null,
   "id": "c17d3f1f",
   "metadata": {},
   "outputs": [],
   "source": []
  },
  {
   "cell_type": "markdown",
   "id": "88fcbf61",
   "metadata": {},
   "source": [
    "Por último, vamos a comprar el resultado con el que nos da `scikit-learn`para ver si nuestra implementación tiene buena pinta. Podemos ver cómo funciona en la [documentación](https://scikit-learn.org/stable/modules/generated/sklearn.linear_model.LinearRegression.html)."
   ]
  },
  {
   "cell_type": "code",
   "execution_count": 15,
   "id": "3d07cb49",
   "metadata": {},
   "outputs": [
    {
     "name": "stdout",
     "output_type": "stream",
     "text": [
      "Punto de corte: [46.31736442]\n",
      "Pendiente: [[-0.00767661]]\n"
     ]
    }
   ],
   "source": [
    "from sklearn.linear_model import LinearRegression\n",
    "\n",
    "# Creamos el objeto\n",
    "lr = LinearRegression()\n",
    "\n",
    "# Le pasamos los datos en el formato correcto\n",
    "X = auto_mpg.data.features \n",
    "y = auto_mpg.data.targets \n",
    "\n",
    "X_lr = X[['weight']]\n",
    "y_lr = y\n",
    "\n",
    "# Entrenamos con los datos\n",
    "lr.fit(X_lr,y_lr)\n",
    "print(\"Punto de corte:\", lr.intercept_)\n",
    "print(\"Pendiente:\", lr.coef_)\n",
    "\n"
   ]
  },
  {
   "cell_type": "code",
   "execution_count": null,
   "id": "480bebad",
   "metadata": {},
   "outputs": [],
   "source": []
  },
  {
   "cell_type": "code",
   "execution_count": null,
   "id": "019b6a9a",
   "metadata": {},
   "outputs": [],
   "source": []
  },
  {
   "cell_type": "markdown",
   "id": "a2571861",
   "metadata": {},
   "source": [
    "**TODO**: Analiza el resultado obtenido y compáralo con el de sklearn"
   ]
  },
  {
   "cell_type": "markdown",
   "id": "4aa24d2c",
   "metadata": {},
   "source": [
    "### 1.4 Compara el método de mínimos cuadrados y el descenso del gradiente para obtener los coeficientes de una regresión lineal\n",
    "\n"
   ]
  },
  {
   "cell_type": "markdown",
   "id": "3e9b06f2",
   "metadata": {},
   "source": []
  },
  {
   "cell_type": "markdown",
   "id": "77098377",
   "metadata": {},
   "source": [
    "## 2. Optimización con descenso del gradiente [OPCIONAL]\n",
    "\n",
    "Este ejercicio es opcional, no es necesario hacerlo para conseguir el APTO en la práctica, pero podéis hacerlo si queréis practicar más sobre el método del descenso del gradiente, que es muy importante en machine learning.\n",
    "\n",
    "Vamos a resolver el mismo problema usando el descenso del gradiente en lugar de la solución analítica. El descenso del gradiente es un método de optimización iterativo que usa el operador gradiente.\n",
    "\n",
    "Como es iterativo, necesitamos decirle cuándo tiene que parar y darnos la solución. En este caso, le vamos a decir que pare y nos devuelva la solución después de un número de iteraciones que le pasaremos como parámetro. La ecuación iterativa es.\n",
    "\n",
    "$$w^{t+1} = w^t - \\eta \\cdot \\nabla f(w)$$\n",
    "\n",
    "donde f es nuestra función objetivo, y w es un vector. Para la función objetivo, vamos a usar el error RSS, que querremos minimizar.\n",
    "\n",
    "$$ RSS(w) = \\frac{1}{2}\\sum_{n=1}^{N}[y_n-f(x_n)]^2$$\n",
    "\n",
    "y cuyo gradiente es:\n",
    "\n",
    "$$\\nabla RSS(w) = X^T(Xw^t-y)$$\n",
    "\n",
    "TIP: Ten en cuenta que el RSS también lo puedes escribir como $\\frac{1}{2}\\sum_{n=1}^{N}[y_n-\\hat{y_n}]^2$ donde $\\hat{y_n} = X \\hat{w}$ en cada paso."
   ]
  },
  {
   "cell_type": "markdown",
   "id": "446ad8dd",
   "metadata": {},
   "source": [
    "### 2.1 Implementar el descenso del gradiente\n",
    "\n",
    "Completa las siguientes funciones para implementar el descenso del gradiente con la función objetivo de la regresión lineal. La función necesitará:\n",
    "\n",
    "- La entrada X y salida y de la regresión\n",
    "- Un punto inicial desde el que empezar a iterar\n",
    "- El número de iteraciones \n",
    "- El learning rate\n",
    "\n",
    "La función nos devolverá un array con las w resultantes de las iteraciones y otro con el valor de la función en cada paso del algoritmo, a la que también se conoce como *loss function*."
   ]
  },
  {
   "cell_type": "code",
   "execution_count": null,
   "id": "a73d5785",
   "metadata": {},
   "outputs": [],
   "source": [
    "import numpy as np\n",
    "\n",
    "def gradient_descent(X, y, w0, n_iter, eta): \n",
    "    # Define la función que calcule n_iter iteraciones del descenso del gradiente\n",
    "    # Inicializamos variables\n",
    "    # Si eliges otra forma de resolverlo, puedes borrar esta parte\n",
    "    loss_iter = [np.inf]\n",
    "    w_iter = [w0]\n",
    "    w = w0\n",
    "    \n",
    "    # TODO 1 Añade la columna de 1s\n",
    "    \n",
    "    \n",
    "    # TODO 2 Haz un bucle para las iteraciones \n",
    "    # TODO 3 Dentro del bucle tendrás que actualizar el error y los pesos y añadirlos a las listas\n",
    "    \n",
    "    \n",
    "    # Devuelve los resultados\n",
    "    return np.array(w_iter), np.array(loss_iter)\n",
    "\n",
    "\n",
    "eta = 0.01 \n",
    "iteraciones = 2000 \n",
    "\n",
    "np.random.seed(123)\n",
    "w0 = np.random.rand(2).reshape((2,1))\n",
    "\n",
    "y = np.array([208500, 181500, 223500, 140000, 250000]).reshape((5,1))\n",
    "X = np.array( [[  0.37020659],\n",
    "               [  -0.48234664],\n",
    "               [  0.51483616],\n",
    "               [  0.38352774],\n",
    "               [  1.29888065]])\n",
    "\n",
    "weights, loss = gradient_descent(X, y, w0, iteraciones, eta)\n",
    "\n",
    "print(weights[-1])"
   ]
  },
  {
   "cell_type": "markdown",
   "id": "6d6e3013",
   "metadata": {},
   "source": [
    "### 2.2 Aplicar al dataset de consumo de combustible\n",
    "\n",
    "Leemos de nuevo los datos y aplicamos la función que acabamos de programar."
   ]
  },
  {
   "cell_type": "code",
   "execution_count": null,
   "id": "5b684062",
   "metadata": {},
   "outputs": [],
   "source": [
    "from ucimlrepo import fetch_ucirepo \n",
    "  \n",
    "# fetch dataset \n",
    "auto_mpg = fetch_ucirepo(id=9) \n",
    "  \n",
    "# data (as pandas dataframes) \n",
    "X = auto_mpg.data.features \n",
    "y = auto_mpg.data.targets \n",
    "  \n",
    "# convert to numpy\n",
    "X_np = X['weight'].to_numpy().reshape((X.shape[0], 1))\n",
    "y_np = y.to_numpy()\n",
    "\n",
    "print(X_np.shape)\n",
    "print(y_np.shape)"
   ]
  },
  {
   "cell_type": "markdown",
   "id": "94d27c55",
   "metadata": {},
   "source": [
    "Para ayudar al algoritmo, vamos a escalar la variable X, restando la media y dividiendo entre la desviación estándar. Después aplicamos la función anterior y dibujamos."
   ]
  },
  {
   "cell_type": "code",
   "execution_count": null,
   "id": "b5438c2a",
   "metadata": {},
   "outputs": [],
   "source": [
    "# TODO Aplica el modelo y dibuja la recta junto con los datos\n",
    "\n",
    "X = auto_mpg.data.features\n",
    "y = auto_mpg.data.targets\n",
    "\n",
    "# Escalamos la variable x \n",
    "\n",
    "X_np = X['weight'].to_numpy().reshape((X.shape[0], 1))\n",
    "y_np = y.to_numpy()\n",
    "\n",
    "X_gd=(X_np - X_np.mean()) / X_np.std()\n",
    "y_gd = y_np\n",
    "\n",
    "# TODO 1 Punto inicial y learning rate\n",
    "\n",
    "\n",
    "# TODO 2 Aplicamos el algoritmo\n",
    "\n",
    "\n",
    "# Límites de los ejes\n",
    "x_max = np.max(X_gd) + 1\n",
    "x_min = np.min(X_gd) -1\n",
    "\n",
    "\n",
    "# TODO 3 Dibuja la gráfica\n"
   ]
  }
 ],
 "metadata": {
  "kernelspec": {
   "display_name": "Python 3 (ipykernel)",
   "language": "python",
   "name": "python3"
  },
  "language_info": {
   "codemirror_mode": {
    "name": "ipython",
    "version": 3
   },
   "file_extension": ".py",
   "mimetype": "text/x-python",
   "name": "python",
   "nbconvert_exporter": "python",
   "pygments_lexer": "ipython3",
   "version": "3.11.7"
  }
 },
 "nbformat": 4,
 "nbformat_minor": 5
}
